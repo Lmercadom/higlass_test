{
 "cells": [
  {
   "cell_type": "code",
   "execution_count": 2,
   "metadata": {},
   "outputs": [
    {
     "ename": "AttributeError",
     "evalue": "module 'hgflask.client' has no attribute 'ViewConf'",
     "output_type": "error",
     "traceback": [
      "\u001b[0;31m---------------------------------------------------------------------------\u001b[0m",
      "\u001b[0;31mAttributeError\u001b[0m                            Traceback (most recent call last)",
      "\u001b[0;32m<ipython-input-2-66881a5f5647>\u001b[0m in \u001b[0;36m<module>\u001b[0;34m()\u001b[0m\n\u001b[1;32m      2\u001b[0m \u001b[0;32mimport\u001b[0m \u001b[0mhgflask\u001b[0m\u001b[0;34m.\u001b[0m\u001b[0mclient\u001b[0m \u001b[0;32mas\u001b[0m \u001b[0mhgc\u001b[0m\u001b[0;34m\u001b[0m\u001b[0m\n\u001b[1;32m      3\u001b[0m \u001b[0;34m\u001b[0m\u001b[0m\n\u001b[0;32m----> 4\u001b[0;31m conf = hgc.ViewConf([\n\u001b[0m\u001b[1;32m      5\u001b[0m     hgc.View([\n\u001b[1;32m      6\u001b[0m         \u001b[0mhgc\u001b[0m\u001b[0;34m.\u001b[0m\u001b[0mTrack\u001b[0m\u001b[0;34m(\u001b[0m\u001b[0mtrack_type\u001b[0m\u001b[0;34m=\u001b[0m\u001b[0;34m'top-axis'\u001b[0m\u001b[0;34m,\u001b[0m \u001b[0mposition\u001b[0m\u001b[0;34m=\u001b[0m\u001b[0;34m'top'\u001b[0m\u001b[0;34m)\u001b[0m\u001b[0;34m,\u001b[0m\u001b[0;34m\u001b[0m\u001b[0m\n",
      "\u001b[0;31mAttributeError\u001b[0m: module 'hgflask.client' has no attribute 'ViewConf'"
     ]
    }
   ],
   "source": [
    "import higlass_jupyter as hiju\n",
    "import hgflask.client as hgc\n",
    "\n",
    "conf = hgc.ViewConf([\n",
    "    hgc.View([\n",
    "        hgc.Track(track_type='top-axis', position='top'),\n",
    "        hgc.Track(track_type='heatmap', position='center',\n",
    "                 tileset_uuid='CQMd6V_cRw6iCI_-Unl3PQ',\n",
    "                  api_url=\"http://higlass.io/api/v1/\",\n",
    "                  height=250,\n",
    "                 options={ 'valueScaleMax': 0.5 }),\n",
    "\n",
    "    ])\n",
    "])\n",
    "\n",
    "hiju.HiGlassDisplay(viewconf=conf.to_json())"
   ]
  },
  {
   "cell_type": "code",
   "execution_count": null,
   "metadata": {},
   "outputs": [],
   "source": [
    "    "
   ]
  }
 ],
 "metadata": {
  "kernelspec": {
   "display_name": "Python 3",
   "language": "python",
   "name": "python3"
  },
  "language_info": {
   "codemirror_mode": {
    "name": "ipython",
    "version": 3
   },
   "file_extension": ".py",
   "mimetype": "text/x-python",
   "name": "python",
   "nbconvert_exporter": "python",
   "pygments_lexer": "ipython3",
   "version": "3.6.5"
  }
 },
 "nbformat": 4,
 "nbformat_minor": 2
}
