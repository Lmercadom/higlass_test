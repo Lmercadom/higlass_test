{
 "cells": [
  {
   "cell_type": "code",
   "execution_count": null,
   "metadata": {},
   "outputs": [],
   "source": [
    "from higlass_jupyter import HiGlassDisplay\n",
    "from hgflask.client import ViewConf, View, Track\n",
    "from hgflask.tilesets import Tileset\n",
    "import hgflask.server\n",
    "\n",
    "conf = ViewConf([\n",
    "    View([\n",
    "        Track(track_type='top-axis', \n",
    "              position='top'),\n",
    "        Track(track_type='heatmap', \n",
    "              position='center',\n",
    "              tileset_uuid='CQMd6V_cRw6iCI_-Unl3PQ',\n",
    "              api_url=\"https://higlass.io/api/v1/\",\n",
    "              height=250,\n",
    "              options={ 'valueScaleMax': 0.5 }),\n",
    "    ])\n",
    "])\n",
    "HiGlassDisplay(viewconf=conf.to_json())"
   ]
  },
  {
   "cell_type": "code",
   "execution_count": null,
   "metadata": {},
   "outputs": [],
   "source": [
    "from IPython.display import Javascript, display\n",
    "\n",
    "def get_server_api_url(port):    \n",
    "    import re\n",
    "    host_proxy = re.findall(r'https://hub.mybinder.org/user/[A-Za-z0-9-_]+', LOCATION)[0] + '/proxy/{}'.format(port)\n",
    "    return host_proxy + '/api/v1'\n",
    "\n",
    "    \n",
    "PORT = 8000\n",
    "server = hgflask.server.start([ts], port=PORT)\n",
    "display(Javascript(\"\"\"IPython.notebook.kernel.execute('LOCATION = \"' + window.location.href + '\"');\"\"\"))"
   ]
  },
  {
   "cell_type": "code",
   "execution_count": null,
   "metadata": {},
   "outputs": [],
   "source": [
    "conf = ViewConf([\n",
    "    View([\n",
    "        Track(track_type='top-axis', position='top'),\n",
    "        Track(track_type='left-axis', position='left'),\n",
    "        Track(track_type='heatmap', \n",
    "              position='center',\n",
    "              tileset_uuid=ts.uuid,\n",
    "              api_url=get_server_api_url(PORT),\n",
    "              height=250,\n",
    "              options={ 'valueScaleMax': 0.5 }),\n",
    "\n",
    "    ])\n",
    "])\n",
    "HiGlassDisplay(viewconf=conf.to_json())"
   ]
  }
 ],
 "metadata": {
  "kernelspec": {
   "display_name": "Python 3",
   "language": "python",
   "name": "python3"
  },
  "language_info": {
   "codemirror_mode": {
    "name": "ipython",
    "version": 3
   },
   "file_extension": ".py",
   "mimetype": "text/x-python",
   "name": "python",
   "nbconvert_exporter": "python",
   "pygments_lexer": "ipython3",
   "version": "3.6.5"
  }
 },
 "nbformat": 4,
 "nbformat_minor": 2
}
