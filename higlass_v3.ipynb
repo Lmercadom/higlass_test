{
 "cells": [
  {
   "cell_type": "code",
   "execution_count": 2,
   "metadata": {},
   "outputs": [
    {
     "data": {
      "application/vnd.jupyter.widget-view+json": {
       "model_id": "e97973d4e895413484eadd0efa9ae124",
       "version_major": 2,
       "version_minor": 0
      },
      "text/plain": [
       "HiGlassDisplay(viewconf={'editable': True, 'views': [{'uid': 'Hku6pUSNSXqctkbcco-DMg', 'tracks': {'top': [{'ty…"
      ]
     },
     "metadata": {},
     "output_type": "display_data"
    }
   ],
   "source": [
    "import higlass_jupyter as hiju\n",
    "import hgflask.client as hgc\n",
    "\n",
    "conf = hgc.ViewConf([\n",
    "    hgc.View([\n",
    "        hgc.Track(track_type='top-axis', position='top'),\n",
    "        hgc.Track(track_type='heatmap', position='center',\n",
    "                 tileset_uuid='CQMd6V_cRw6iCI_-Unl3PQ',\n",
    "                  api_url=\"http://higlass.io/api/v1/\",\n",
    "                  height=250,\n",
    "                 options={ 'valueScaleMax': 0.5 }),\n",
    "\n",
    "    ])\n",
    "])\n",
    "\n",
    "hiju.HiGlassDisplay(viewconf=conf.to_json())"
   ]
  },
  {
   "cell_type": "code",
   "execution_count": 6,
   "metadata": {},
   "outputs": [
    {
     "name": "stdout",
     "output_type": "stream",
     "text": [
      "terminating: TzwzDGVjSoGBZ-ohcc0Yxw\n",
      " * Serving Flask app \"hgflask.server\" (lazy loading)\n",
      " * Environment: production\n",
      "   WARNING: Do not use the development server in a production environment.\n",
      "   Use a production WSGI server instead.\n",
      " * Debug mode: on\n",
      "sleeping\n"
     ]
    },
    {
     "name": "stderr",
     "output_type": "stream",
     "text": [
      " * Running on http://0.0.0.0:52307/ (Press CTRL+C to quit)\n",
      "127.0.0.1 - - [16/Oct/2018 14:49:40] \"GET /api/v1/tileset_info/?d=a HTTP/1.1\" 200 -\n"
     ]
    },
    {
     "name": "stdout",
     "output_type": "stream",
     "text": [
      "ret: 200 b'{\\n  \"a\": {\\n    \"error\": \"No such tileset with uid: a\"\\n  }\\n}\\n'\n",
      "returning\n"
     ]
    },
    {
     "name": "stderr",
     "output_type": "stream",
     "text": [
      "127.0.0.1 - - [16/Oct/2018 14:49:44] \"OPTIONS /api/v1/tileset_info/?d=BkgzQZjpRACLX8bh4FmiGw&s=e2asvh6PRCaKMsgCR8ELDg HTTP/1.1\" 200 -\n",
      "127.0.0.1 - - [16/Oct/2018 14:49:44] \"GET /api/v1/tileset_info/?d=BkgzQZjpRACLX8bh4FmiGw&s=e2asvh6PRCaKMsgCR8ELDg HTTP/1.1\" 200 -\n",
      "127.0.0.1 - - [16/Oct/2018 14:49:44] \"OPTIONS /api/v1/tiles/?d=BkgzQZjpRACLX8bh4FmiGw.12.0.0&d=BkgzQZjpRACLX8bh4FmiGw.1.0.0&d=BkgzQZjpRACLX8bh4FmiGw.1.1.0&s=e2asvh6PRCaKMsgCR8ELDg HTTP/1.1\" 200 -\n",
      "127.0.0.1 - - [16/Oct/2018 14:49:44] \"GET /api/v1/tiles/?d=BkgzQZjpRACLX8bh4FmiGw.12.0.0&d=BkgzQZjpRACLX8bh4FmiGw.1.0.0&d=BkgzQZjpRACLX8bh4FmiGw.1.1.0&s=e2asvh6PRCaKMsgCR8ELDg HTTP/1.1\" 200 -\n",
      "127.0.0.1 - - [16/Oct/2018 14:49:47] \"OPTIONS /api/v1/tiles/?d=BkgzQZjpRACLX8bh4FmiGw.1.0.1&d=BkgzQZjpRACLX8bh4FmiGw.1.1.1&s=e2asvh6PRCaKMsgCR8ELDg HTTP/1.1\" 200 -\n",
      "127.0.0.1 - - [16/Oct/2018 14:49:47] \"GET /api/v1/tiles/?d=BkgzQZjpRACLX8bh4FmiGw.1.0.1&d=BkgzQZjpRACLX8bh4FmiGw.1.1.1&s=e2asvh6PRCaKMsgCR8ELDg HTTP/1.1\" 200 -\n",
      "127.0.0.1 - - [16/Oct/2018 14:49:49] \"OPTIONS /api/v1/tiles/?d=BkgzQZjpRACLX8bh4FmiGw.2.0.0&d=BkgzQZjpRACLX8bh4FmiGw.2.0.1&d=BkgzQZjpRACLX8bh4FmiGw.2.1.0&d=BkgzQZjpRACLX8bh4FmiGw.2.1.1&s=e2asvh6PRCaKMsgCR8ELDg HTTP/1.1\" 200 -\n",
      "127.0.0.1 - - [16/Oct/2018 14:49:49] \"GET /api/v1/tiles/?d=BkgzQZjpRACLX8bh4FmiGw.2.0.0&d=BkgzQZjpRACLX8bh4FmiGw.2.0.1&d=BkgzQZjpRACLX8bh4FmiGw.2.1.0&d=BkgzQZjpRACLX8bh4FmiGw.2.1.1&s=e2asvh6PRCaKMsgCR8ELDg HTTP/1.1\" 200 -\n",
      "127.0.0.1 - - [16/Oct/2018 14:49:51] \"OPTIONS /api/v1/tiles/?d=BkgzQZjpRACLX8bh4FmiGw.3.1.2&d=BkgzQZjpRACLX8bh4FmiGw.3.2.2&d=BkgzQZjpRACLX8bh4FmiGw.3.3.2&s=e2asvh6PRCaKMsgCR8ELDg HTTP/1.1\" 200 -\n",
      "127.0.0.1 - - [16/Oct/2018 14:49:52] \"GET /api/v1/tiles/?d=BkgzQZjpRACLX8bh4FmiGw.3.1.2&d=BkgzQZjpRACLX8bh4FmiGw.3.2.2&d=BkgzQZjpRACLX8bh4FmiGw.3.3.2&s=e2asvh6PRCaKMsgCR8ELDg HTTP/1.1\" 200 -\n",
      "127.0.0.1 - - [16/Oct/2018 14:49:52] \"OPTIONS /api/v1/tiles/?d=BkgzQZjpRACLX8bh4FmiGw.2.0.1&d=BkgzQZjpRACLX8bh4FmiGw.2.1.1&s=e2asvh6PRCaKMsgCR8ELDg HTTP/1.1\" 200 -\n",
      "127.0.0.1 - - [16/Oct/2018 14:49:52] \"OPTIONS /api/v1/tiles/?d=BkgzQZjpRACLX8bh4FmiGw.2.0.0&d=BkgzQZjpRACLX8bh4FmiGw.2.1.0&s=e2asvh6PRCaKMsgCR8ELDg HTTP/1.1\" 200 -\n",
      "127.0.0.1 - - [16/Oct/2018 14:49:53] \"GET /api/v1/tiles/?d=BkgzQZjpRACLX8bh4FmiGw.2.0.1&d=BkgzQZjpRACLX8bh4FmiGw.2.1.1&s=e2asvh6PRCaKMsgCR8ELDg HTTP/1.1\" 200 -\n",
      "127.0.0.1 - - [16/Oct/2018 14:49:53] \"GET /api/v1/tiles/?d=BkgzQZjpRACLX8bh4FmiGw.2.0.0&d=BkgzQZjpRACLX8bh4FmiGw.2.1.0&s=e2asvh6PRCaKMsgCR8ELDg HTTP/1.1\" 200 -\n",
      "127.0.0.1 - - [16/Oct/2018 14:49:53] \"OPTIONS /api/v1/tiles/?d=BkgzQZjpRACLX8bh4FmiGw.1.0.0&d=BkgzQZjpRACLX8bh4FmiGw.1.1.0&s=e2asvh6PRCaKMsgCR8ELDg HTTP/1.1\" 200 -\n",
      "127.0.0.1 - - [16/Oct/2018 14:49:53] \"GET /api/v1/tiles/?d=BkgzQZjpRACLX8bh4FmiGw.1.0.0&d=BkgzQZjpRACLX8bh4FmiGw.1.1.0&s=e2asvh6PRCaKMsgCR8ELDg HTTP/1.1\" 200 -\n",
      "127.0.0.1 - - [16/Oct/2018 14:49:55] \"OPTIONS /api/v1/tiles/?d=BkgzQZjpRACLX8bh4FmiGw.2.0.0&d=BkgzQZjpRACLX8bh4FmiGw.2.0.1&d=BkgzQZjpRACLX8bh4FmiGw.2.1.0&d=BkgzQZjpRACLX8bh4FmiGw.2.1.1&s=e2asvh6PRCaKMsgCR8ELDg HTTP/1.1\" 200 -\n",
      "127.0.0.1 - - [16/Oct/2018 14:49:55] \"OPTIONS /api/v1/tiles/?d=BkgzQZjpRACLX8bh4FmiGw.3.1.2&d=BkgzQZjpRACLX8bh4FmiGw.3.2.2&s=e2asvh6PRCaKMsgCR8ELDg HTTP/1.1\" 200 -\n",
      "127.0.0.1 - - [16/Oct/2018 14:49:55] \"GET /api/v1/tiles/?d=BkgzQZjpRACLX8bh4FmiGw.3.1.2&d=BkgzQZjpRACLX8bh4FmiGw.3.2.2&s=e2asvh6PRCaKMsgCR8ELDg HTTP/1.1\" 200 -\n",
      "127.0.0.1 - - [16/Oct/2018 14:49:55] \"GET /api/v1/tiles/?d=BkgzQZjpRACLX8bh4FmiGw.2.0.0&d=BkgzQZjpRACLX8bh4FmiGw.2.0.1&d=BkgzQZjpRACLX8bh4FmiGw.2.1.0&d=BkgzQZjpRACLX8bh4FmiGw.2.1.1&s=e2asvh6PRCaKMsgCR8ELDg HTTP/1.1\" 200 -\n",
      "127.0.0.1 - - [16/Oct/2018 14:49:56] \"OPTIONS /api/v1/tiles/?d=BkgzQZjpRACLX8bh4FmiGw.4.4.4&d=BkgzQZjpRACLX8bh4FmiGw.4.4.5&d=BkgzQZjpRACLX8bh4FmiGw.4.5.4&d=BkgzQZjpRACLX8bh4FmiGw.4.5.5&s=e2asvh6PRCaKMsgCR8ELDg HTTP/1.1\" 200 -\n",
      "127.0.0.1 - - [16/Oct/2018 14:49:56] \"OPTIONS /api/v1/tiles/?d=BkgzQZjpRACLX8bh4FmiGw.5.8.9&d=BkgzQZjpRACLX8bh4FmiGw.5.8.10&d=BkgzQZjpRACLX8bh4FmiGw.5.9.9&d=BkgzQZjpRACLX8bh4FmiGw.5.9.10&s=e2asvh6PRCaKMsgCR8ELDg HTTP/1.1\" 200 -\n",
      "127.0.0.1 - - [16/Oct/2018 14:49:56] \"GET /api/v1/tiles/?d=BkgzQZjpRACLX8bh4FmiGw.4.4.4&d=BkgzQZjpRACLX8bh4FmiGw.4.4.5&d=BkgzQZjpRACLX8bh4FmiGw.4.5.4&d=BkgzQZjpRACLX8bh4FmiGw.4.5.5&s=e2asvh6PRCaKMsgCR8ELDg HTTP/1.1\" 200 -\n",
      "127.0.0.1 - - [16/Oct/2018 14:49:57] \"GET /api/v1/tiles/?d=BkgzQZjpRACLX8bh4FmiGw.5.8.9&d=BkgzQZjpRACLX8bh4FmiGw.5.8.10&d=BkgzQZjpRACLX8bh4FmiGw.5.9.9&d=BkgzQZjpRACLX8bh4FmiGw.5.9.10&s=e2asvh6PRCaKMsgCR8ELDg HTTP/1.1\" 200 -\n",
      "127.0.0.1 - - [16/Oct/2018 14:49:58] \"OPTIONS /api/v1/tiles/?d=BkgzQZjpRACLX8bh4FmiGw.4.3.4&d=BkgzQZjpRACLX8bh4FmiGw.4.3.5&s=e2asvh6PRCaKMsgCR8ELDg HTTP/1.1\" 200 -\n",
      "127.0.0.1 - - [16/Oct/2018 14:49:58] \"GET /api/v1/tiles/?d=BkgzQZjpRACLX8bh4FmiGw.4.3.4&d=BkgzQZjpRACLX8bh4FmiGw.4.3.5&s=e2asvh6PRCaKMsgCR8ELDg HTTP/1.1\" 200 -\n",
      "127.0.0.1 - - [16/Oct/2018 14:49:58] \"GET /api/v1/tiles/?d=BkgzQZjpRACLX8bh4FmiGw.4.4.4&d=BkgzQZjpRACLX8bh4FmiGw.4.4.5&d=BkgzQZjpRACLX8bh4FmiGw.4.5.4&d=BkgzQZjpRACLX8bh4FmiGw.4.5.5&s=e2asvh6PRCaKMsgCR8ELDg HTTP/1.1\" 200 -\n",
      "127.0.0.1 - - [16/Oct/2018 14:49:59] \"GET /api/v1/tiles/?d=BkgzQZjpRACLX8bh4FmiGw.3.1.2&d=BkgzQZjpRACLX8bh4FmiGw.3.2.2&s=e2asvh6PRCaKMsgCR8ELDg HTTP/1.1\" 200 -\n",
      "127.0.0.1 - - [16/Oct/2018 14:50:00] \"OPTIONS /api/v1/tiles/?d=BkgzQZjpRACLX8bh4FmiGw.2.0.1&d=BkgzQZjpRACLX8bh4FmiGw.2.1.1&s=e2asvh6PRCaKMsgCR8ELDg HTTP/1.1\" 200 -\n",
      "127.0.0.1 - - [16/Oct/2018 14:50:01] \"GET /api/v1/tiles/?d=BkgzQZjpRACLX8bh4FmiGw.2.0.1&d=BkgzQZjpRACLX8bh4FmiGw.2.1.1&s=e2asvh6PRCaKMsgCR8ELDg HTTP/1.1\" 200 -\n",
      "127.0.0.1 - - [16/Oct/2018 14:50:01] \"OPTIONS /api/v1/tiles/?d=BkgzQZjpRACLX8bh4FmiGw.1.0.0&d=BkgzQZjpRACLX8bh4FmiGw.1.1.0&s=e2asvh6PRCaKMsgCR8ELDg HTTP/1.1\" 200 -\n",
      "127.0.0.1 - - [16/Oct/2018 14:50:02] \"GET /api/v1/tiles/?d=BkgzQZjpRACLX8bh4FmiGw.1.0.0&d=BkgzQZjpRACLX8bh4FmiGw.1.1.0&s=e2asvh6PRCaKMsgCR8ELDg HTTP/1.1\" 200 -\n",
      "127.0.0.1 - - [16/Oct/2018 14:50:02] \"OPTIONS /api/v1/tiles/?d=BkgzQZjpRACLX8bh4FmiGw.1.0.1&d=BkgzQZjpRACLX8bh4FmiGw.1.1.1&s=e2asvh6PRCaKMsgCR8ELDg HTTP/1.1\" 200 -\n",
      "127.0.0.1 - - [16/Oct/2018 14:50:02] \"GET /api/v1/tiles/?d=BkgzQZjpRACLX8bh4FmiGw.1.0.1&d=BkgzQZjpRACLX8bh4FmiGw.1.1.1&s=e2asvh6PRCaKMsgCR8ELDg HTTP/1.1\" 200 -\n",
      "127.0.0.1 - - [16/Oct/2018 14:50:12] \"OPTIONS /api/v1/tileset_info/?d=BkgzQZjpRACLX8bh4FmiGw&s=e2asvh6PRCaKMsgCR8ELDg HTTP/1.1\" 200 -\n",
      "127.0.0.1 - - [16/Oct/2018 14:50:12] \"GET /api/v1/tileset_info/?d=BkgzQZjpRACLX8bh4FmiGw&s=e2asvh6PRCaKMsgCR8ELDg HTTP/1.1\" 200 -\n",
      "127.0.0.1 - - [16/Oct/2018 14:50:12] \"OPTIONS /api/v1/tiles/?d=BkgzQZjpRACLX8bh4FmiGw.12.0.0&d=BkgzQZjpRACLX8bh4FmiGw.1.0.0&d=BkgzQZjpRACLX8bh4FmiGw.1.1.0&s=e2asvh6PRCaKMsgCR8ELDg HTTP/1.1\" 200 -\n",
      "127.0.0.1 - - [16/Oct/2018 14:50:12] \"GET /api/v1/tiles/?d=BkgzQZjpRACLX8bh4FmiGw.12.0.0&d=BkgzQZjpRACLX8bh4FmiGw.1.0.0&d=BkgzQZjpRACLX8bh4FmiGw.1.1.0&s=e2asvh6PRCaKMsgCR8ELDg HTTP/1.1\" 200 -\n",
      "127.0.0.1 - - [16/Oct/2018 14:50:15] \"OPTIONS /api/v1/tiles/?d=BkgzQZjpRACLX8bh4FmiGw.1.0.1&d=BkgzQZjpRACLX8bh4FmiGw.1.1.1&s=e2asvh6PRCaKMsgCR8ELDg HTTP/1.1\" 200 -\n",
      "127.0.0.1 - - [16/Oct/2018 14:50:15] \"GET /api/v1/tiles/?d=BkgzQZjpRACLX8bh4FmiGw.1.0.1&d=BkgzQZjpRACLX8bh4FmiGw.1.1.1&s=e2asvh6PRCaKMsgCR8ELDg HTTP/1.1\" 200 -\n",
      "127.0.0.1 - - [16/Oct/2018 14:50:19] \"GET /api/v1/tiles/?d=BkgzQZjpRACLX8bh4FmiGw.1.0.1&d=BkgzQZjpRACLX8bh4FmiGw.1.1.1&s=e2asvh6PRCaKMsgCR8ELDg HTTP/1.1\" 200 -\n",
      "127.0.0.1 - - [16/Oct/2018 14:50:24] \"OPTIONS /api/v1/tiles/?d=BkgzQZjpRACLX8bh4FmiGw.4.0.1&d=BkgzQZjpRACLX8bh4FmiGw.4.1.1&s=e2asvh6PRCaKMsgCR8ELDg HTTP/1.1\" 200 -\n",
      "127.0.0.1 - - [16/Oct/2018 14:50:24] \"GET /api/v1/tiles/?d=BkgzQZjpRACLX8bh4FmiGw.4.0.1&d=BkgzQZjpRACLX8bh4FmiGw.4.1.1&s=e2asvh6PRCaKMsgCR8ELDg HTTP/1.1\" 200 -\n",
      "127.0.0.1 - - [16/Oct/2018 14:50:26] \"OPTIONS /api/v1/tiles/?d=BkgzQZjpRACLX8bh4FmiGw.5.2.2&d=BkgzQZjpRACLX8bh4FmiGw.5.2.3&d=BkgzQZjpRACLX8bh4FmiGw.5.3.2&d=BkgzQZjpRACLX8bh4FmiGw.5.3.3&s=e2asvh6PRCaKMsgCR8ELDg HTTP/1.1\" 200 -\n",
      "127.0.0.1 - - [16/Oct/2018 14:50:26] \"GET /api/v1/tiles/?d=BkgzQZjpRACLX8bh4FmiGw.5.2.2&d=BkgzQZjpRACLX8bh4FmiGw.5.2.3&d=BkgzQZjpRACLX8bh4FmiGw.5.3.2&d=BkgzQZjpRACLX8bh4FmiGw.5.3.3&s=e2asvh6PRCaKMsgCR8ELDg HTTP/1.1\" 200 -\n",
      "127.0.0.1 - - [16/Oct/2018 14:50:26] \"OPTIONS /api/v1/tiles/?d=BkgzQZjpRACLX8bh4FmiGw.6.5.5&d=BkgzQZjpRACLX8bh4FmiGw.6.6.5&s=e2asvh6PRCaKMsgCR8ELDg HTTP/1.1\" 200 -\n"
     ]
    },
    {
     "name": "stderr",
     "output_type": "stream",
     "text": [
      "127.0.0.1 - - [16/Oct/2018 14:50:26] \"GET /api/v1/tiles/?d=BkgzQZjpRACLX8bh4FmiGw.6.5.5&d=BkgzQZjpRACLX8bh4FmiGw.6.6.5&s=e2asvh6PRCaKMsgCR8ELDg HTTP/1.1\" 200 -\n",
      "127.0.0.1 - - [16/Oct/2018 14:50:28] \"OPTIONS /api/v1/tiles/?d=BkgzQZjpRACLX8bh4FmiGw.7.10.11&d=BkgzQZjpRACLX8bh4FmiGw.7.11.11&d=BkgzQZjpRACLX8bh4FmiGw.7.12.11&s=e2asvh6PRCaKMsgCR8ELDg HTTP/1.1\" 200 -\n",
      "127.0.0.1 - - [16/Oct/2018 14:50:29] \"GET /api/v1/tiles/?d=BkgzQZjpRACLX8bh4FmiGw.7.10.11&d=BkgzQZjpRACLX8bh4FmiGw.7.11.11&d=BkgzQZjpRACLX8bh4FmiGw.7.12.11&s=e2asvh6PRCaKMsgCR8ELDg HTTP/1.1\" 200 -\n",
      "127.0.0.1 - - [16/Oct/2018 14:50:29] \"OPTIONS /api/v1/tiles/?d=BkgzQZjpRACLX8bh4FmiGw.8.22.22&d=BkgzQZjpRACLX8bh4FmiGw.8.22.23&d=BkgzQZjpRACLX8bh4FmiGw.8.23.22&d=BkgzQZjpRACLX8bh4FmiGw.8.23.23&s=e2asvh6PRCaKMsgCR8ELDg HTTP/1.1\" 200 -\n",
      "127.0.0.1 - - [16/Oct/2018 14:50:29] \"GET /api/v1/tiles/?d=BkgzQZjpRACLX8bh4FmiGw.8.22.22&d=BkgzQZjpRACLX8bh4FmiGw.8.22.23&d=BkgzQZjpRACLX8bh4FmiGw.8.23.22&d=BkgzQZjpRACLX8bh4FmiGw.8.23.23&s=e2asvh6PRCaKMsgCR8ELDg HTTP/1.1\" 200 -\n",
      "127.0.0.1 - - [16/Oct/2018 14:50:30] \"GET /api/v1/tiles/?d=BkgzQZjpRACLX8bh4FmiGw.7.10.11&d=BkgzQZjpRACLX8bh4FmiGw.7.11.11&d=BkgzQZjpRACLX8bh4FmiGw.7.12.11&s=e2asvh6PRCaKMsgCR8ELDg HTTP/1.1\" 200 -\n",
      "127.0.0.1 - - [16/Oct/2018 14:50:31] \"GET /api/v1/tiles/?d=BkgzQZjpRACLX8bh4FmiGw.6.5.5&d=BkgzQZjpRACLX8bh4FmiGw.6.6.5&s=e2asvh6PRCaKMsgCR8ELDg HTTP/1.1\" 200 -\n",
      "127.0.0.1 - - [16/Oct/2018 14:50:31] \"OPTIONS /api/v1/tiles/?d=BkgzQZjpRACLX8bh4FmiGw.9.45.45&d=BkgzQZjpRACLX8bh4FmiGw.9.45.46&d=BkgzQZjpRACLX8bh4FmiGw.9.46.45&d=BkgzQZjpRACLX8bh4FmiGw.9.46.46&d=BkgzQZjpRACLX8bh4FmiGw.9.47.45&d=BkgzQZjpRACLX8bh4FmiGw.9.47.46&s=e2asvh6PRCaKMsgCR8ELDg HTTP/1.1\" 200 -\n",
      "127.0.0.1 - - [16/Oct/2018 14:50:32] \"GET /api/v1/tiles/?d=BkgzQZjpRACLX8bh4FmiGw.9.45.45&d=BkgzQZjpRACLX8bh4FmiGw.9.45.46&d=BkgzQZjpRACLX8bh4FmiGw.9.46.45&d=BkgzQZjpRACLX8bh4FmiGw.9.46.46&d=BkgzQZjpRACLX8bh4FmiGw.9.47.45&d=BkgzQZjpRACLX8bh4FmiGw.9.47.46&s=e2asvh6PRCaKMsgCR8ELDg HTTP/1.1\" 200 -\n",
      "127.0.0.1 - - [16/Oct/2018 14:50:33] \"OPTIONS /api/v1/tiles/?d=BkgzQZjpRACLX8bh4FmiGw.6.5.5&d=BkgzQZjpRACLX8bh4FmiGw.6.6.5&s=e2asvh6PRCaKMsgCR8ELDg HTTP/1.1\" 200 -\n",
      "127.0.0.1 - - [16/Oct/2018 14:50:33] \"GET /api/v1/tiles/?d=BkgzQZjpRACLX8bh4FmiGw.7.10.11&d=BkgzQZjpRACLX8bh4FmiGw.7.11.11&d=BkgzQZjpRACLX8bh4FmiGw.7.12.11&s=e2asvh6PRCaKMsgCR8ELDg HTTP/1.1\" 200 -\n",
      "127.0.0.1 - - [16/Oct/2018 14:50:33] \"GET /api/v1/tiles/?d=BkgzQZjpRACLX8bh4FmiGw.6.5.5&d=BkgzQZjpRACLX8bh4FmiGw.6.6.5&s=e2asvh6PRCaKMsgCR8ELDg HTTP/1.1\" 200 -\n",
      "127.0.0.1 - - [16/Oct/2018 14:50:33] \"OPTIONS /api/v1/tiles/?d=BkgzQZjpRACLX8bh4FmiGw.6.5.6&d=BkgzQZjpRACLX8bh4FmiGw.6.6.6&s=e2asvh6PRCaKMsgCR8ELDg HTTP/1.1\" 200 -\n",
      "127.0.0.1 - - [16/Oct/2018 14:50:33] \"GET /api/v1/tiles/?d=BkgzQZjpRACLX8bh4FmiGw.6.5.6&d=BkgzQZjpRACLX8bh4FmiGw.6.6.6&s=e2asvh6PRCaKMsgCR8ELDg HTTP/1.1\" 200 -\n",
      "127.0.0.1 - - [16/Oct/2018 14:50:33] \"OPTIONS /api/v1/tiles/?d=BkgzQZjpRACLX8bh4FmiGw.5.2.2&d=BkgzQZjpRACLX8bh4FmiGw.5.2.3&d=BkgzQZjpRACLX8bh4FmiGw.5.3.2&d=BkgzQZjpRACLX8bh4FmiGw.5.3.3&s=e2asvh6PRCaKMsgCR8ELDg HTTP/1.1\" 200 -\n",
      "127.0.0.1 - - [16/Oct/2018 14:50:33] \"GET /api/v1/tiles/?d=BkgzQZjpRACLX8bh4FmiGw.5.2.2&d=BkgzQZjpRACLX8bh4FmiGw.5.2.3&d=BkgzQZjpRACLX8bh4FmiGw.5.3.2&d=BkgzQZjpRACLX8bh4FmiGw.5.3.3&s=e2asvh6PRCaKMsgCR8ELDg HTTP/1.1\" 200 -\n",
      "127.0.0.1 - - [16/Oct/2018 14:50:56] \"OPTIONS /api/v1/tileset_info/?d=BkgzQZjpRACLX8bh4FmiGw&s=e2asvh6PRCaKMsgCR8ELDg HTTP/1.1\" 200 -\n",
      "127.0.0.1 - - [16/Oct/2018 14:50:56] \"GET /api/v1/tileset_info/?d=BkgzQZjpRACLX8bh4FmiGw&s=e2asvh6PRCaKMsgCR8ELDg HTTP/1.1\" 200 -\n",
      "127.0.0.1 - - [16/Oct/2018 14:50:56] \"OPTIONS /api/v1/tiles/?d=BkgzQZjpRACLX8bh4FmiGw.12.0.0&d=BkgzQZjpRACLX8bh4FmiGw.1.0.0&d=BkgzQZjpRACLX8bh4FmiGw.1.1.0&s=e2asvh6PRCaKMsgCR8ELDg HTTP/1.1\" 200 -\n",
      "127.0.0.1 - - [16/Oct/2018 14:50:57] \"GET /api/v1/tiles/?d=BkgzQZjpRACLX8bh4FmiGw.12.0.0&d=BkgzQZjpRACLX8bh4FmiGw.1.0.0&d=BkgzQZjpRACLX8bh4FmiGw.1.1.0&s=e2asvh6PRCaKMsgCR8ELDg HTTP/1.1\" 200 -\n",
      "127.0.0.1 - - [16/Oct/2018 14:59:17] \"OPTIONS /api/v1/tiles/?d=BkgzQZjpRACLX8bh4FmiGw.2.0.0&d=BkgzQZjpRACLX8bh4FmiGw.2.0.1&d=BkgzQZjpRACLX8bh4FmiGw.2.1.0&d=BkgzQZjpRACLX8bh4FmiGw.2.1.1&s=e2asvh6PRCaKMsgCR8ELDg HTTP/1.1\" 200 -\n",
      "127.0.0.1 - - [16/Oct/2018 14:59:17] \"GET /api/v1/tiles/?d=BkgzQZjpRACLX8bh4FmiGw.2.0.0&d=BkgzQZjpRACLX8bh4FmiGw.2.0.1&d=BkgzQZjpRACLX8bh4FmiGw.2.1.0&d=BkgzQZjpRACLX8bh4FmiGw.2.1.1&s=e2asvh6PRCaKMsgCR8ELDg HTTP/1.1\" 200 -\n"
     ]
    }
   ],
   "source": [
    "import hgflask.tilesets as hfti\n",
    "import hgflask.server as hgse\n",
    "\n",
    "ts = hfti.cooler(\n",
    "    '/Users/luisa/MARGI_pipeline_test/run_pipeline/run3/output_5000.mcool')\n",
    "server = hgse.start(tilesets=[ts])"
   ]
  },
  {
   "cell_type": "code",
   "execution_count": 9,
   "metadata": {},
   "outputs": [
    {
     "data": {
      "application/vnd.jupyter.widget-view+json": {
       "model_id": "bfcc96890a5f4b3fa8c5df8b2ddea5db",
       "version_major": 2,
       "version_minor": 0
      },
      "text/plain": [
       "HiGlassDisplay(viewconf={'editable': True, 'views': [{'uid': 'er7thECATlKZ6QnK4ayZUg', 'tracks': {'top': [{'ty…"
      ]
     },
     "metadata": {},
     "output_type": "display_data"
    }
   ],
   "source": [
    "conf = hgc.ViewConf([\n",
    "    hgc.View([\n",
    "        hgc.Track(track_type='top-axis', position='top'),\n",
    "        hgc.Track(track_type='heatmap', position='center',\n",
    "                 tileset_uuid=ts.uuid,\n",
    "                  api_url=server.api_address,\n",
    "                  height=250),\n",
    "\n",
    "    ])\n",
    "])\n",
    "\n",
    "hiju.HiGlassDisplay(viewconf=conf.to_json())"
   ]
  },
  {
   "cell_type": "code",
   "execution_count": null,
   "metadata": {},
   "outputs": [],
   "source": []
  }
 ],
 "metadata": {
  "kernelspec": {
   "display_name": "Python 3",
   "language": "python",
   "name": "python3"
  },
  "language_info": {
   "codemirror_mode": {
    "name": "ipython",
    "version": 3
   },
   "file_extension": ".py",
   "mimetype": "text/x-python",
   "name": "python",
   "nbconvert_exporter": "python",
   "pygments_lexer": "ipython3",
   "version": "3.6.6"
  }
 },
 "nbformat": 4,
 "nbformat_minor": 2
}
